{
 "cells": [
  {
   "cell_type": "code",
   "execution_count": 22,
   "id": "95e18d59-87d6-4d8c-b385-fd3a4c43aed6",
   "metadata": {},
   "outputs": [],
   "source": [
    "from python_speech_features import mfcc\n",
    "from python_speech_features import delta\n",
    "from python_speech_features import logfbank\n",
    "import scipy.io.wavfile as wav\n",
    "import librosa"
   ]
  },
  {
   "cell_type": "code",
   "execution_count": 23,
   "id": "3f74cfe4-6702-45ae-a083-ef082b7e39d1",
   "metadata": {},
   "outputs": [
    {
     "name": "stdout",
     "output_type": "stream",
     "text": [
      "/Users/bingyanghou/Desktop/COLX_585_trends/data/common_voice_en_10504.opus\n"
     ]
    }
   ],
   "source": [
    "path = \"/Users/bingyanghou/Desktop/COLX_585_trends/data/\"\n",
    "name = 'common_voice_en_10504.opus'\n",
    "opus_file = path  + name\n",
    "print(opus_file)"
   ]
  },
  {
   "cell_type": "code",
   "execution_count": 24,
   "id": "050ff335-0990-4e9e-99a0-ff19496eafb1",
   "metadata": {},
   "outputs": [],
   "source": [
    "def generate_speech_features_from_opus(opus_file):\n",
    "    \"\"\"This function generates the speech features in the numpy array from an opus file:\n",
    "\n",
    "    Args:\n",
    "        opus_file (str): The path of the opus file\n",
    "\n",
    "    Returns:\n",
    "        numpy.ndarray: The generated speech features\n",
    "\n",
    "    \"\"\"\n",
    "    # Get the signal and sample rate from an opus file\n",
    "    sig, rate = librosa.load(opus_file)\n",
    "    \n",
    "    # Replace this if you want to use wav file\n",
    "    # (rate,sig) = wav.read(\"english.wav\")\n",
    "    \n",
    "    # Compute the MFCC features from signal and sample rate\n",
    "    mfcc_feat = mfcc(sig,rate)\n",
    "    \n",
    "    # Compute delta features from MFCC\n",
    "    d_mfcc_feat = delta(mfcc_feat, 2)\n",
    "    \n",
    "    # Compute log Mel-filterbank energy features \n",
    "    fbank_feat = logfbank(sig,rate)\n",
    "    \n",
    "    return fbank_feat"
   ]
  },
  {
   "cell_type": "code",
   "execution_count": 25,
   "id": "4aa9fdb4-3fb8-418b-856c-12d17890885c",
   "metadata": {},
   "outputs": [
    {
     "name": "stderr",
     "output_type": "stream",
     "text": [
      "WARNING:root:frame length (551) is greater than FFT size (512), frame will be truncated. Increase NFFT to avoid.\n",
      "WARNING:root:frame length (551) is greater than FFT size (512), frame will be truncated. Increase NFFT to avoid.\n"
     ]
    },
    {
     "data": {
      "text/plain": [
       "array([[-161.06472493, -160.77718207, -160.55440842, ..., -159.16557285,\n",
       "        -159.33606962, -159.64516963],\n",
       "       [-190.98635535, -190.39569488, -189.71678277, ..., -181.21787322,\n",
       "        -182.71419374, -181.95816175],\n",
       "       [-190.63708547, -190.03859499, -189.57703171, ..., -181.18624189,\n",
       "        -183.13135684, -182.12987483],\n",
       "       ...,\n",
       "       [-193.96842466, -193.3214148 , -191.25004776, ..., -181.1777958 ,\n",
       "        -182.86602441, -182.21671512],\n",
       "       [-192.36923725, -192.46391168, -191.36864796, ..., -181.09505036,\n",
       "        -182.88716639, -182.03442854],\n",
       "       [-158.79534689, -159.82397282, -161.63526865, ..., -162.58540403,\n",
       "        -162.07909875, -161.25393166]])"
      ]
     },
     "execution_count": 25,
     "metadata": {},
     "output_type": "execute_result"
    }
   ],
   "source": [
    "generate_speech_features_from_opus(opus_file)"
   ]
  }
 ],
 "metadata": {
  "kernelspec": {
   "display_name": "Python 3 (ipykernel)",
   "language": "python",
   "name": "python3"
  },
  "language_info": {
   "codemirror_mode": {
    "name": "ipython",
    "version": 3
   },
   "file_extension": ".py",
   "mimetype": "text/x-python",
   "name": "python",
   "nbconvert_exporter": "python",
   "pygments_lexer": "ipython3",
   "version": "3.10.6"
  }
 },
 "nbformat": 4,
 "nbformat_minor": 5
}
