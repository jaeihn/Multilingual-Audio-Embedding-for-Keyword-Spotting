{
 "cells": [
  {
   "cell_type": "code",
   "execution_count": 2,
   "id": "b804f011-987a-4958-9ac5-1ecfed283fe5",
   "metadata": {},
   "outputs": [],
   "source": [
    "import torch\n",
    "from torch.utils.data import DataLoader, Dataset"
   ]
  },
  {
   "cell_type": "code",
   "execution_count": 3,
   "id": "6c7a71d2-9aed-4ff2-a510-472cd49a9cc8",
   "metadata": {},
   "outputs": [],
   "source": [
    "class KWS_dataset(Dataset):\n",
    "    def __init__(self, input_data, output_data):\n",
    "        self.input_data = input_data\n",
    "        self.output_data = output_data\n",
    "        \n",
    "    def __len__(self):\n",
    "        return len(self.input_data)\n",
    "    \n",
    "    def __getitem__(self, index):\n",
    "        keyword = self.output_data[index]\n",
    "        audio_features = self.input_data[index]\n",
    "        return audio_features, keyword\n",
    "    "
   ]
  },
  {
   "cell_type": "code",
   "execution_count": 6,
   "id": "392c9541-eb54-4ed2-b649-9a99e29d4461",
   "metadata": {},
   "outputs": [],
   "source": [
    "# train_loader = torch.load('../data/en_splits_30_trainloader')\n",
    "# dev_loader = torch.load('../data/en_splits_30_devloader')\n",
    "test_loader = torch.load('../data/en_splits_10_testloader')"
   ]
  },
  {
   "cell_type": "code",
   "execution_count": 7,
   "id": "17063a5a-bdd5-4a05-89e1-54a17656f375",
   "metadata": {},
   "outputs": [
    {
     "name": "stdout",
     "output_type": "stream",
     "text": [
      "980\n"
     ]
    }
   ],
   "source": [
    "# print(len(train_loader.dataset))\n",
    "# print(len(dev_loader.dataset))\n",
    "print(len(test_loader.dataset))"
   ]
  },
  {
   "cell_type": "code",
   "execution_count": 15,
   "id": "ab3d6766-5a77-4417-a618-6c905fb5e5b3",
   "metadata": {},
   "outputs": [
    {
     "data": {
      "text/plain": [
       "torch.Size([40, 100])"
      ]
     },
     "execution_count": 15,
     "metadata": {},
     "output_type": "execute_result"
    }
   ],
   "source": [
    "next(iter(test_loader))[0][0].shape"
   ]
  },
  {
   "cell_type": "code",
   "execution_count": null,
   "id": "714a9d53-1876-48d4-be9a-eac661a9735f",
   "metadata": {},
   "outputs": [],
   "source": []
  }
 ],
 "metadata": {
  "kernelspec": {
   "display_name": "Python 3 (ipykernel)",
   "language": "python",
   "name": "python3"
  },
  "language_info": {
   "codemirror_mode": {
    "name": "ipython",
    "version": 3
   },
   "file_extension": ".py",
   "mimetype": "text/x-python",
   "name": "python",
   "nbconvert_exporter": "python",
   "pygments_lexer": "ipython3",
   "version": "3.10.6"
  }
 },
 "nbformat": 4,
 "nbformat_minor": 5
}
