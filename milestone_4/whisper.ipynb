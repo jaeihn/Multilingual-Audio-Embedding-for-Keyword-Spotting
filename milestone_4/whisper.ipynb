{
 "cells": [
  {
   "cell_type": "code",
   "execution_count": 1,
   "id": "fcf54138-d27a-4098-854e-ae136ee2ea89",
   "metadata": {},
   "outputs": [],
   "source": [
    "from transformers import WhisperForAudioClassification, WhisperConfig\n",
    "import torch\n",
    "import evaluate\n",
    "import librosa\n",
    "from torch.utils.data import DataLoader\n",
    "from datasets import load_dataset\n",
    "from datasets import Dataset\n",
    "from tqdm import tqdm"
   ]
  },
  {
   "cell_type": "code",
   "execution_count": 2,
   "id": "0ffe1398-13ed-4c22-9cb7-389fcee28ace",
   "metadata": {},
   "outputs": [],
   "source": [
    "class KWS_dataset(torch.utils.data.Dataset):\n",
    "    def __init__(self, input_data, output_data):\n",
    "        self.input_data = input_data\n",
    "        self.output_data = output_data\n",
    "        \n",
    "    def __len__(self):\n",
    "        return len(self.input_data)\n",
    "    \n",
    "    def __getitem__(self, index):\n",
    "        keyword = self.output_data[index]\n",
    "        audio_features = self.input_data[index]\n",
    "        # return audio_features, keyword\n",
    "        return {'audio': audio_features,\n",
    "                'keyword': keyword\n",
    "               }"
   ]
  },
  {
   "cell_type": "code",
   "execution_count": 3,
   "id": "428b3c93-75d3-4915-871b-efadcefe62e3",
   "metadata": {},
   "outputs": [],
   "source": [
    "data_path = '../data/'"
   ]
  },
  {
   "cell_type": "code",
   "execution_count": 4,
   "id": "e34f271a-c86c-445d-94e3-15c0ffb233dc",
   "metadata": {},
   "outputs": [],
   "source": [
    "train_dataloader = torch.load('../data/en_splits_30.trainloader')\n",
    "dev_dataloader = torch.load('../data/en_splits_30.devloader')\n",
    "test_dataloader = torch.load('../data/en_splits_30.testloader')"
   ]
  },
  {
   "cell_type": "code",
   "execution_count": 5,
   "id": "3b032ef1-30d2-4764-8ddc-d3b3b65797c3",
   "metadata": {},
   "outputs": [],
   "source": [
    "metric = evaluate.load(\"accuracy\")"
   ]
  },
  {
   "cell_type": "code",
   "execution_count": 6,
   "id": "a94003ae-e0c5-42f9-a647-630461bc2e6b",
   "metadata": {},
   "outputs": [],
   "source": [
    "device = torch.device('cuda') if torch.cuda.is_available() else torch.device('cpu')"
   ]
  },
  {
   "cell_type": "code",
   "execution_count": null,
   "id": "b1f61210-a033-464c-bfc0-f132c2fb54e3",
   "metadata": {},
   "outputs": [
    {
     "name": "stderr",
     "output_type": "stream",
     "text": [
      "\u001b[34m\u001b[1mwandb\u001b[0m: Currently logged in as: \u001b[33mjaeihn\u001b[0m (\u001b[33mthe-wild-bunch\u001b[0m). Use \u001b[1m`wandb login --relogin`\u001b[0m to force relogin\n"
     ]
    },
    {
     "data": {
      "text/html": [
       "wandb version 0.15.0 is available!  To upgrade, please run:\n",
       " $ pip install wandb --upgrade"
      ],
      "text/plain": [
       "<IPython.core.display.HTML object>"
      ]
     },
     "metadata": {},
     "output_type": "display_data"
    },
    {
     "data": {
      "text/html": [
       "Tracking run with wandb version 0.14.2"
      ],
      "text/plain": [
       "<IPython.core.display.HTML object>"
      ]
     },
     "metadata": {},
     "output_type": "display_data"
    },
    {
     "data": {
      "text/html": [
       "Run data is saved locally in <code>/Users/jaeihn/projects/MDS-CL/COLX_585_The-Wild-Bunch/milestone_4/wandb/run-20230424_213208-o32mtogs</code>"
      ],
      "text/plain": [
       "<IPython.core.display.HTML object>"
      ]
     },
     "metadata": {},
     "output_type": "display_data"
    },
    {
     "data": {
      "text/html": [
       "Syncing run <strong><a href='https://wandb.ai/the-wild-bunch/whisper/runs/o32mtogs' target=\"_blank\">deep-universe-7</a></strong> to <a href='https://wandb.ai/the-wild-bunch/whisper' target=\"_blank\">Weights & Biases</a> (<a href='https://wandb.me/run' target=\"_blank\">docs</a>)<br/>"
      ],
      "text/plain": [
       "<IPython.core.display.HTML object>"
      ]
     },
     "metadata": {},
     "output_type": "display_data"
    },
    {
     "data": {
      "text/html": [
       " View project at <a href='https://wandb.ai/the-wild-bunch/whisper' target=\"_blank\">https://wandb.ai/the-wild-bunch/whisper</a>"
      ],
      "text/plain": [
       "<IPython.core.display.HTML object>"
      ]
     },
     "metadata": {},
     "output_type": "display_data"
    },
    {
     "data": {
      "text/html": [
       " View run at <a href='https://wandb.ai/the-wild-bunch/whisper/runs/o32mtogs' target=\"_blank\">https://wandb.ai/the-wild-bunch/whisper/runs/o32mtogs</a>"
      ],
      "text/plain": [
       "<IPython.core.display.HTML object>"
      ]
     },
     "metadata": {},
     "output_type": "display_data"
    },
    {
     "name": "stderr",
     "output_type": "stream",
     "text": [
      "  2%|▋                              | 75/3292 [00:05<04:00, 13.36it/s]"
     ]
    }
   ],
   "source": [
    "whisper_model = WhisperForAudioClassification(WhisperConfig(\n",
    "    num_mel_bins=80,\n",
    "    vocab_size=30,\n",
    "    num_labels=31,\n",
    "    max_source_positions=50,\n",
    "    classifier_proj_size=1024,\n",
    "    # encoder_attention_heads=8,\n",
    "    # decoder_attention_heads=8,\n",
    "    dropout=0.2\n",
    "))\n",
    "\n",
    "whisper_model.to(device)\n",
    "whisper_model.float()\n",
    "whisper_model.train()\n",
    "optim = torch.optim.Adam(whisper_model.parameters(), lr=5e-5)\n",
    "\n",
    "\n",
    "import wandb\n",
    "#start a new wandb run to track this script\n",
    "wandb.init(\n",
    "    # set the wandb project where this run will be logged\n",
    "    project=\"whisper\",\n",
    "    \n",
    "    # track hyperparameters and run metadata\n",
    "    config={\n",
    "    \"architecture\": \"whisper\",\n",
    "    \"dataset\": \"en_30\",\n",
    "    \"epochs\": \"10\",\n",
    "    \"channels\": \"80\",\n",
    "    \"encoder_attention_heads\": \"6\",\n",
    "    \"decoder_attention_heads\": \"6\",\n",
    "    \"classifier_proj_size\" : 1024,\n",
    "    \"lr\": \"5e-5\",\n",
    "    \"dropout\": 0.3\n",
    "\n",
    "    }\n",
    ")\n",
    "\n",
    "\n",
    "epochs = 10\n",
    "\n",
    "for epoch in range(epochs):\n",
    "    whisper_model.train()\n",
    "    for batch in tqdm(train_dataloader):\n",
    "        optim.zero_grad()\n",
    "        audio = batch['audio'].to(device)\n",
    "        labels = batch['keyword'].to(device)\n",
    "        outputs = whisper_model(audio, labels=labels)\n",
    "        loss = outputs['loss']\n",
    "        loss.backward()\n",
    "        optim.step()\n",
    "        \n",
    "    torch.save({\n",
    "            'epoch': epoch,\n",
    "            'model_state_dict': whisper_model.state_dict(),\n",
    "            'optimizer_state_dict': optim.state_dict(),\n",
    "            'loss': loss,\n",
    "            }, f'../model/whisper/epoch_{epoch+1}')\n",
    "        \n",
    "    whisper_model.eval()\n",
    "        \n",
    "    for batch in tqdm(dev_dataloader):\n",
    "        audio = batch['audio'].to(device)\n",
    "        labels = batch['keyword'].to(device)\n",
    "        outputs = whisper_model(audio, labels=labels)\n",
    "        \n",
    "        metric.add_batch(predictions=outputs.logits.argmax(-1), references=labels)\n",
    "\n",
    "    wandb.log({\"acc\": metric.compute()['accuracy'], \"loss\": loss})\n",
    "    \n",
    "wandb.finish()"
   ]
  },
  {
   "cell_type": "code",
   "execution_count": null,
   "id": "4e97ee7c-f4a8-48a2-b60b-064c1a471d58",
   "metadata": {},
   "outputs": [],
   "source": [
    "whisper_model = WhisperForAudioClassification(WhisperConfig(\n",
    "    num_mel_bins=80,\n",
    "    vocab_size=30,\n",
    "    num_labels=31,\n",
    "    max_source_positions=50,\n",
    "    classifier_proj_size=512,\n",
    "    encoder_ffn_dim=3072,\n",
    "    # encoder_attention_heads=8,\n",
    "    # decoder_attention_heads=8,\n",
    "    dropout=0.2\n",
    "))\n",
    "\n",
    "whisper_model.to(device)\n",
    "whisper_model.float()\n",
    "whisper_model.train()\n",
    "optim = torch.optim.Adam(whisper_model.parameters(), lr=5e-5)\n",
    "\n",
    "\n",
    "import wandb\n",
    "#start a new wandb run to track this script\n",
    "wandb.init(\n",
    "    # set the wandb project where this run will be logged\n",
    "    project=\"whisper\",\n",
    "    \n",
    "    # track hyperparameters and run metadata\n",
    "    config={\n",
    "    \"architecture\": \"whisper\",\n",
    "    \"dataset\": \"en_30\",\n",
    "    \"epochs\": \"10\",\n",
    "    \"channels\": \"80\",\n",
    "    \"encoder_attention_heads\": \"6\",\n",
    "    \"decoder_attention_heads\": \"6\",\n",
    "    \"encoder_ffn_dim\": 3072,\n",
    "    \"classifier_proj_size\" : 1024,\n",
    "    \"lr\": \"5e-5\",\n",
    "    \"dropout\": 0.3\n",
    "\n",
    "    }\n",
    ")\n",
    "\n",
    "\n",
    "epochs = 10\n",
    "\n",
    "for epoch in range(epochs):\n",
    "    whisper_model.train()\n",
    "    for batch in tqdm(train_dataloader):\n",
    "        optim.zero_grad()\n",
    "        audio = batch['audio'].to(device)\n",
    "        labels = batch['keyword'].to(device)\n",
    "        outputs = whisper_model(audio, labels=labels)\n",
    "        loss = outputs['loss']\n",
    "        loss.backward()\n",
    "        optim.step()\n",
    "        \n",
    "    torch.save({\n",
    "            'epoch': epoch,\n",
    "            'model_state_dict': whisper_model.state_dict(),\n",
    "            'optimizer_state_dict': optim.state_dict(),\n",
    "            'loss': loss,\n",
    "            }, f'../model/whisper/epoch_{epoch+1}')\n",
    "        \n",
    "    whisper_model.eval()\n",
    "        \n",
    "    for batch in tqdm(dev_dataloader):\n",
    "        audio = batch['audio'].to(device)\n",
    "        labels = batch['keyword'].to(device)\n",
    "        outputs = whisper_model(audio, labels=labels)\n",
    "        \n",
    "        metric.add_batch(predictions=outputs.logits.argmax(-1), references=labels)\n",
    "\n",
    "    wandb.log({\"acc\": metric.compute()['accuracy'], \"loss\": loss})\n",
    "    \n",
    "wandb.finish()"
   ]
  },
  {
   "cell_type": "code",
   "execution_count": null,
   "id": "e3fb3d6d-363e-4635-83d9-088422217a25",
   "metadata": {},
   "outputs": [],
   "source": []
  }
 ],
 "metadata": {
  "kernelspec": {
   "display_name": "Python 3 (ipykernel)",
   "language": "python",
   "name": "python3"
  },
  "language_info": {
   "codemirror_mode": {
    "name": "ipython",
    "version": 3
   },
   "file_extension": ".py",
   "mimetype": "text/x-python",
   "name": "python",
   "nbconvert_exporter": "python",
   "pygments_lexer": "ipython3",
   "version": "3.10.6"
  }
 },
 "nbformat": 4,
 "nbformat_minor": 5
}
