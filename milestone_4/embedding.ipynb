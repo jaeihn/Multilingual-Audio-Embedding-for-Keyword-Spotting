{
 "cells": [
  {
   "cell_type": "markdown",
   "id": "89e19b6a-16b2-4aa1-824d-deab5e4b5dd4",
   "metadata": {},
   "source": [
    "# Whisper Embedding Model"
   ]
  },
  {
   "cell_type": "code",
   "execution_count": 13,
   "id": "3e54df1e-417e-4bae-9176-85f700f5366e",
   "metadata": {},
   "outputs": [],
   "source": [
    "from transformers import WhisperForAudioClassification, WhisperConfig\n",
    "import torch\n",
    "import evaluate\n",
    "import librosa\n",
    "import wandb\n",
    "from torch.utils.data import DataLoader\n",
    "from datasets import load_dataset\n",
    "from datasets import Dataset\n",
    "from tqdm import tqdm"
   ]
  },
  {
   "cell_type": "code",
   "execution_count": 2,
   "id": "dc80acde-3a02-460f-baf7-b96ccab2f53e",
   "metadata": {},
   "outputs": [],
   "source": [
    "class KWS_dataset(torch.utils.data.Dataset):\n",
    "    def __init__(self, input_data, output_data):\n",
    "        self.input_data = input_data\n",
    "        self.output_data = output_data\n",
    "        \n",
    "    def __len__(self):\n",
    "        return len(self.input_data)\n",
    "    \n",
    "    def __getitem__(self, index):\n",
    "        keyword = self.output_data[index]\n",
    "        audio_features = self.input_data[index]\n",
    "        # return audio_features, keyword\n",
    "        return {'audio': audio_features,\n",
    "                'keyword': keyword\n",
    "               }"
   ]
  },
  {
   "cell_type": "code",
   "execution_count": 3,
   "id": "5428e008-2342-48de-8b66-0ca6835f9a92",
   "metadata": {},
   "outputs": [],
   "source": [
    "data_path = '../data/'"
   ]
  },
  {
   "cell_type": "code",
   "execution_count": 4,
   "id": "be468e00-5980-4fa1-9918-c12a4a0cc0b5",
   "metadata": {},
   "outputs": [],
   "source": [
    "train_dataloader = torch.load('../data/en_splits_30.trainloader')\n",
    "dev_dataloader = torch.load('../data/en_splits_30.devloader')\n",
    "test_dataloader = torch.load('../data/en_splits_30.testloader')"
   ]
  },
  {
   "cell_type": "code",
   "execution_count": 5,
   "id": "887274e8-40bd-4f60-8ce5-fa9f03a69753",
   "metadata": {},
   "outputs": [],
   "source": [
    "metric = evaluate.load(\"accuracy\")"
   ]
  },
  {
   "cell_type": "code",
   "execution_count": 6,
   "id": "c94923ab-48e5-481f-abe1-060555a327cb",
   "metadata": {},
   "outputs": [],
   "source": [
    "device = torch.device('cuda') if torch.cuda.is_available() else torch.device('cpu')"
   ]
  },
  {
   "cell_type": "code",
   "execution_count": 8,
   "id": "23a98575-9722-4836-97d7-b3125076b92b",
   "metadata": {},
   "outputs": [],
   "source": [
    "whisper_model = WhisperForAudioClassification(WhisperConfig(\n",
    "    num_mel_bins=80,\n",
    "    vocab_size=30,\n",
    "    num_labels=31,\n",
    "    max_source_positions=50,\n",
    "    classifier_proj_size=512,\n",
    "    encoder_layer=8,\n",
    "    decoder_layer=8,\n",
    "    dropout=0.2\n",
    "))"
   ]
  },
  {
   "cell_type": "code",
   "execution_count": 7,
   "id": "e3af2e73-13c6-4639-867b-3d39657bd2ff",
   "metadata": {},
   "outputs": [
    {
     "name": "stderr",
     "output_type": "stream",
     "text": [
      "\u001b[34m\u001b[1mwandb\u001b[0m: Currently logged in as: \u001b[33mjaeihn\u001b[0m (\u001b[33mthe-wild-bunch\u001b[0m). Use \u001b[1m`wandb login --relogin`\u001b[0m to force relogin\n"
     ]
    },
    {
     "data": {
      "text/html": [
       "wandb version 0.15.0 is available!  To upgrade, please run:\n",
       " $ pip install wandb --upgrade"
      ],
      "text/plain": [
       "<IPython.core.display.HTML object>"
      ]
     },
     "metadata": {},
     "output_type": "display_data"
    },
    {
     "data": {
      "text/html": [
       "Tracking run with wandb version 0.14.2"
      ],
      "text/plain": [
       "<IPython.core.display.HTML object>"
      ]
     },
     "metadata": {},
     "output_type": "display_data"
    },
    {
     "data": {
      "text/html": [
       "Run data is saved locally in <code>/Users/jaeihn/projects/MDS-CL/COLX_585_The-Wild-Bunch/milestone_4/wandb/run-20230425_050807-n6ghmp4y</code>"
      ],
      "text/plain": [
       "<IPython.core.display.HTML object>"
      ]
     },
     "metadata": {},
     "output_type": "display_data"
    },
    {
     "data": {
      "text/html": [
       "Syncing run <strong><a href='https://wandb.ai/the-wild-bunch/whisper/runs/n6ghmp4y' target=\"_blank\">desert-lion-11</a></strong> to <a href='https://wandb.ai/the-wild-bunch/whisper' target=\"_blank\">Weights & Biases</a> (<a href='https://wandb.me/run' target=\"_blank\">docs</a>)<br/>"
      ],
      "text/plain": [
       "<IPython.core.display.HTML object>"
      ]
     },
     "metadata": {},
     "output_type": "display_data"
    },
    {
     "data": {
      "text/html": [
       " View project at <a href='https://wandb.ai/the-wild-bunch/whisper' target=\"_blank\">https://wandb.ai/the-wild-bunch/whisper</a>"
      ],
      "text/plain": [
       "<IPython.core.display.HTML object>"
      ]
     },
     "metadata": {},
     "output_type": "display_data"
    },
    {
     "data": {
      "text/html": [
       " View run at <a href='https://wandb.ai/the-wild-bunch/whisper/runs/n6ghmp4y' target=\"_blank\">https://wandb.ai/the-wild-bunch/whisper/runs/n6ghmp4y</a>"
      ],
      "text/plain": [
       "<IPython.core.display.HTML object>"
      ]
     },
     "metadata": {},
     "output_type": "display_data"
    },
    {
     "name": "stderr",
     "output_type": "stream",
     "text": [
      "100%|█████████████████████████████| 3292/3292 [05:53<00:00,  9.31it/s]\n",
      "100%|█████████████████████████████████| 14/14 [00:11<00:00,  1.23it/s]\n",
      "100%|█████████████████████████████| 3292/3292 [06:03<00:00,  9.06it/s]\n",
      "100%|█████████████████████████████████| 14/14 [00:11<00:00,  1.23it/s]\n",
      "100%|█████████████████████████████| 3292/3292 [06:08<00:00,  8.93it/s]\n",
      "100%|█████████████████████████████████| 14/14 [00:10<00:00,  1.30it/s]\n",
      "100%|█████████████████████████████| 3292/3292 [06:13<00:00,  8.81it/s]\n",
      "100%|█████████████████████████████████| 14/14 [00:11<00:00,  1.26it/s]\n",
      "100%|█████████████████████████████| 3292/3292 [06:09<00:00,  8.92it/s]\n",
      "100%|█████████████████████████████████| 14/14 [00:11<00:00,  1.18it/s]\n",
      "100%|█████████████████████████████| 3292/3292 [06:03<00:00,  9.06it/s]\n",
      "100%|█████████████████████████████████| 14/14 [00:10<00:00,  1.29it/s]\n",
      "100%|█████████████████████████████| 3292/3292 [06:10<00:00,  8.88it/s]\n",
      "100%|█████████████████████████████████| 14/14 [00:11<00:00,  1.23it/s]\n",
      "100%|█████████████████████████████| 3292/3292 [06:10<00:00,  8.88it/s]\n",
      "100%|█████████████████████████████████| 14/14 [00:11<00:00,  1.22it/s]\n",
      "100%|█████████████████████████████| 3292/3292 [06:15<00:00,  8.77it/s]\n",
      "100%|█████████████████████████████████| 14/14 [00:11<00:00,  1.24it/s]\n",
      "100%|█████████████████████████████| 3292/3292 [06:16<00:00,  8.74it/s]\n",
      "100%|█████████████████████████████████| 14/14 [00:11<00:00,  1.26it/s]\n"
     ]
    },
    {
     "data": {
      "text/html": [
       "Waiting for W&B process to finish... <strong style=\"color:green\">(success).</strong>"
      ],
      "text/plain": [
       "<IPython.core.display.HTML object>"
      ]
     },
     "metadata": {},
     "output_type": "display_data"
    },
    {
     "data": {
      "application/vnd.jupyter.widget-view+json": {
       "model_id": "aba66f8d3a1a49b9b32110f993594a9d",
       "version_major": 2,
       "version_minor": 0
      },
      "text/plain": [
       "VBox(children=(Label(value='0.001 MB of 0.026 MB uploaded (0.000 MB deduped)\\r'), FloatProgress(value=0.034497…"
      ]
     },
     "metadata": {},
     "output_type": "display_data"
    },
    {
     "data": {
      "text/html": [
       "<style>\n",
       "    table.wandb td:nth-child(1) { padding: 0 10px; text-align: left ; width: auto;} td:nth-child(2) {text-align: left ; width: 100%}\n",
       "    .wandb-row { display: flex; flex-direction: row; flex-wrap: wrap; justify-content: flex-start; width: 100% }\n",
       "    .wandb-col { display: flex; flex-direction: column; flex-basis: 100%; flex: 1; padding: 10px; }\n",
       "    </style>\n",
       "<div class=\"wandb-row\"><div class=\"wandb-col\"><h3>Run history:</h3><br/><table class=\"wandb\"><tr><td>acc</td><td>▁▄▅▆▆▇█▇██</td></tr><tr><td>loss</td><td>▆▅▄▁▁▅▆█▄▂</td></tr></table><br/></div><div class=\"wandb-col\"><h3>Run summary:</h3><br/><table class=\"wandb\"><tr><td>acc</td><td>0.66426</td></tr><tr><td>loss</td><td>0.60512</td></tr></table><br/></div></div>"
      ],
      "text/plain": [
       "<IPython.core.display.HTML object>"
      ]
     },
     "metadata": {},
     "output_type": "display_data"
    },
    {
     "data": {
      "text/html": [
       " View run <strong style=\"color:#cdcd00\">desert-lion-11</strong> at: <a href='https://wandb.ai/the-wild-bunch/whisper/runs/n6ghmp4y' target=\"_blank\">https://wandb.ai/the-wild-bunch/whisper/runs/n6ghmp4y</a><br/>Synced 6 W&B file(s), 0 media file(s), 0 artifact file(s) and 0 other file(s)"
      ],
      "text/plain": [
       "<IPython.core.display.HTML object>"
      ]
     },
     "metadata": {},
     "output_type": "display_data"
    },
    {
     "data": {
      "text/html": [
       "Find logs at: <code>./wandb/run-20230425_050807-n6ghmp4y/logs</code>"
      ],
      "text/plain": [
       "<IPython.core.display.HTML object>"
      ]
     },
     "metadata": {},
     "output_type": "display_data"
    }
   ],
   "source": [
    "whisper_model = WhisperForAudioClassification(WhisperConfig(\n",
    "    num_mel_bins=80,\n",
    "    vocab_size=30,\n",
    "    num_labels=31,\n",
    "    max_source_positions=50,\n",
    "    classifier_proj_size=512,\n",
    "    encoder_layer=8,\n",
    "    decoder_layer=8,\n",
    "    dropout=0.2\n",
    "))\n",
    "\n",
    "whisper_model.to(device)\n",
    "whisper_model.float()\n",
    "whisper_model.train()\n",
    "optim = torch.optim.Adam(whisper_model.parameters(), lr=5e-5)\n",
    "\n",
    "\n",
    "\n",
    "#start a new wandb run to track this script\n",
    "wandb.init(\n",
    "    # set the wandb project where this run will be logged\n",
    "    project=\"whisper\",\n",
    "    \n",
    "    # track hyperparameters and run metadata\n",
    "    config={\n",
    "    \"architecture\": \"whisper\",\n",
    "    \"dataset\": \"en_30\",\n",
    "    \"epochs\": \"10\",\n",
    "    \"channels\": \"80\",\n",
    "    \"encoder_attention_heads\": \"6\",\n",
    "    \"decoder_attention_heads\": \"6\",\n",
    "\n",
    "    }\n",
    ")\n",
    "\n",
    "\n",
    "epochs = 10\n",
    "\n",
    "for epoch in range(epochs):\n",
    "    whisper_model.train()\n",
    "    for batch in tqdm(train_dataloader):\n",
    "        optim.zero_grad()\n",
    "        audio = batch['audio'].to(device)\n",
    "        labels = batch['keyword'].to(device)\n",
    "        outputs = whisper_model(audio, labels=labels)\n",
    "        loss = outputs['loss']\n",
    "        loss.backward()\n",
    "        optim.step()\n",
    "        \n",
    "    torch.save({\n",
    "            'epoch': epoch,\n",
    "            'model_state_dict': whisper_model.state_dict(),\n",
    "            'optimizer_state_dict': optim.state_dict(),\n",
    "            'loss': loss,\n",
    "            }, f'../model/whisper/epoch_{epoch+1}')\n",
    "        \n",
    "    whisper_model.eval()\n",
    "        \n",
    "    for batch in tqdm(dev_dataloader):\n",
    "        audio = batch['audio'].to(device)\n",
    "        labels = batch['keyword'].to(device)\n",
    "        outputs = whisper_model(audio, labels=labels)\n",
    "        \n",
    "        metric.add_batch(predictions=outputs.logits.argmax(-1), references=labels)\n",
    "\n",
    "    wandb.log({\"acc\": metric.compute()['accuracy'], \"loss\": loss})\n",
    "    \n",
    "wandb.finish()"
   ]
  },
  {
   "cell_type": "code",
   "execution_count": 7,
   "id": "b57c2baf-08c2-448f-a6eb-9ab9bf2dd010",
   "metadata": {},
   "outputs": [
    {
     "data": {
      "application/vnd.jupyter.widget-view+json": {
       "model_id": "1133e492f46742f7a89511777338a8cf",
       "version_major": 2,
       "version_minor": 0
      },
      "text/plain": [
       "VBox(children=(HTML(value='<center> <img\\nsrc=https://huggingface.co/front/assets/huggingface_logo-noborder.sv…"
      ]
     },
     "metadata": {},
     "output_type": "display_data"
    }
   ],
   "source": [
    "from huggingface_hub import notebook_login\n",
    "\n",
    "notebook_login()"
   ]
  },
  {
   "cell_type": "code",
   "execution_count": 11,
   "id": "817621fb-3fb4-44a1-a64a-01e5d40da8f4",
   "metadata": {},
   "outputs": [
    {
     "data": {
      "application/vnd.jupyter.widget-view+json": {
       "model_id": "68dea22f481b4c7a95c8729c73374b56",
       "version_major": 2,
       "version_minor": 0
      },
      "text/plain": [
       "Upload 1 LFS files:   0%|          | 0/1 [00:00<?, ?it/s]"
      ]
     },
     "metadata": {},
     "output_type": "display_data"
    },
    {
     "data": {
      "application/vnd.jupyter.widget-view+json": {
       "model_id": "4a0b1bdb5ded447eadf15f71ad086f14",
       "version_major": 2,
       "version_minor": 0
      },
      "text/plain": [
       "pytorch_model.bin:   0%|          | 0.00/27.0M [00:00<?, ?B/s]"
      ]
     },
     "metadata": {},
     "output_type": "display_data"
    },
    {
     "data": {
      "text/plain": [
       "CommitInfo(commit_url='https://huggingface.co/jaeihn/kws_embedding/commit/31db4c2b2adc7c5cf7dd62cf57855ac3d372fe34', commit_message='Upload WhisperForAudioClassification', commit_description='', oid='31db4c2b2adc7c5cf7dd62cf57855ac3d372fe34', pr_url=None, pr_revision=None, pr_num=None)"
      ]
     },
     "execution_count": 11,
     "metadata": {},
     "output_type": "execute_result"
    }
   ],
   "source": [
    "whisper_model.push_to_hub(\"jaeihn/kws_embedding\")"
   ]
  }
 ],
 "metadata": {
  "kernelspec": {
   "display_name": "Python 3 (ipykernel)",
   "language": "python",
   "name": "python3"
  },
  "language_info": {
   "codemirror_mode": {
    "name": "ipython",
    "version": 3
   },
   "file_extension": ".py",
   "mimetype": "text/x-python",
   "name": "python",
   "nbconvert_exporter": "python",
   "pygments_lexer": "ipython3",
   "version": "3.10.6"
  }
 },
 "nbformat": 4,
 "nbformat_minor": 5
}
