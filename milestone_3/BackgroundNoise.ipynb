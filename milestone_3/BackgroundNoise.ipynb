{
 "cells": [
  {
   "cell_type": "code",
   "execution_count": 1,
   "metadata": {},
   "outputs": [
    {
     "name": "stderr",
     "output_type": "stream",
     "text": [
      "Found cached dataset speech_commands (/Users/bingyanghou/.cache/huggingface/datasets/speech_commands/v0.02/0.2.0/ba3d9a6cf49aa1313c51abe16b59203451482ccb9fee6d23c94fecabf3e206da)\n"
     ]
    },
    {
     "data": {
      "application/json": {
       "ascii": false,
       "bar_format": null,
       "colour": null,
       "elapsed": 0.011974811553955078,
       "initial": 0,
       "n": 0,
       "ncols": null,
       "nrows": 24,
       "postfix": null,
       "prefix": "",
       "rate": null,
       "total": 3,
       "unit": "it",
       "unit_divisor": 1000,
       "unit_scale": false
      },
      "application/vnd.jupyter.widget-view+json": {
       "model_id": "d0952abb54ec4ef5aff442170e49c791",
       "version_major": 2,
       "version_minor": 0
      },
      "text/plain": [
       "  0%|          | 0/3 [00:00<?, ?it/s]"
      ]
     },
     "metadata": {},
     "output_type": "display_data"
    }
   ],
   "source": [
    "from datasets import load_dataset\n",
    "from random import randint, choice\n",
    "\n",
    "dataset = load_dataset(\"speech_commands\", \"v0.02\")\n",
    "\n",
    "# https://huggingface.co/datasets/speech_commands"
   ]
  },
  {
   "cell_type": "code",
   "execution_count": 2,
   "metadata": {},
   "outputs": [],
   "source": [
    "def sample_noise(example, index):\n",
    "    # Use this function to extract random 1 sec slices of each _silence_ utterance,\n",
    "    # e.g. inside `torch.utils.data.Dataset.__getitem__()`\n",
    "\n",
    "    random_offset = randint(0, len(example['audio']['array']) - example['audio']['sampling_rate'] - 1)\n",
    "\n",
    "    return {\n",
    "                'source': example['audio']['path'],  # 5 files in total as source\n",
    "                'index': index,  # index of the populated noise from the source files\n",
    "                'array': example['audio']['array'][random_offset : random_offset + example['audio']['sampling_rate']],  # data of the populated noise (1s)\n",
    "                'sampling_rate': example['audio']['sampling_rate']  # sampling_rate of original source file\n",
    "            }"
   ]
  },
  {
   "cell_type": "code",
   "execution_count": 3,
   "metadata": {},
   "outputs": [],
   "source": [
    "# silence_dataset here is the background noise, default label is 35\n",
    "silence_dataset = [example for example in dataset['train'] if example['label'] == 35]"
   ]
  },
  {
   "cell_type": "code",
   "execution_count": 6,
   "metadata": {},
   "outputs": [
    {
     "data": {
      "text/plain": [
       "[{'file': '_silence_/dude_miaowing.wav',\n",
       "  'audio': {'path': '_silence_/dude_miaowing.wav',\n",
       "   'array': array([ 0.        ,  0.        ,  0.        , ...,  0.00289917,\n",
       "           0.00338745, -0.00033569]),\n",
       "   'sampling_rate': 16000},\n",
       "  'label': 35,\n",
       "  'is_unknown': False,\n",
       "  'speaker_id': None,\n",
       "  'utterance_id': 0},\n",
       " {'file': '_silence_/pink_noise.wav',\n",
       "  'audio': {'path': '_silence_/pink_noise.wav',\n",
       "   'array': array([0.66107178, 0.3168335 , 0.4208374 , ..., 0.45953369, 0.25640869,\n",
       "          0.54925537]),\n",
       "   'sampling_rate': 16000},\n",
       "  'label': 35,\n",
       "  'is_unknown': False,\n",
       "  'speaker_id': None,\n",
       "  'utterance_id': 0},\n",
       " {'file': '_silence_/exercise_bike.wav',\n",
       "  'audio': {'path': '_silence_/exercise_bike.wav',\n",
       "   'array': array([ 0.        ,  0.        ,  0.        , ..., -0.02764893,\n",
       "          -0.01760864,  0.00912476]),\n",
       "   'sampling_rate': 16000},\n",
       "  'label': 35,\n",
       "  'is_unknown': False,\n",
       "  'speaker_id': None,\n",
       "  'utterance_id': 0},\n",
       " {'file': '_silence_/white_noise.wav',\n",
       "  'audio': {'path': '_silence_/white_noise.wav',\n",
       "   'array': array([-0.05389404, -0.49334717, -0.53335571, ..., -0.23934937,\n",
       "           0.36676025, -0.15600586]),\n",
       "   'sampling_rate': 16000},\n",
       "  'label': 35,\n",
       "  'is_unknown': False,\n",
       "  'speaker_id': None,\n",
       "  'utterance_id': 0},\n",
       " {'file': '_silence_/doing_the_dishes.wav',\n",
       "  'audio': {'path': '_silence_/doing_the_dishes.wav',\n",
       "   'array': array([ 0.        ,  0.        ,  0.        , ..., -0.00592041,\n",
       "          -0.00405884, -0.00253296]),\n",
       "   'sampling_rate': 16000},\n",
       "  'label': 35,\n",
       "  'is_unknown': False,\n",
       "  'speaker_id': None,\n",
       "  'utterance_id': 0}]"
      ]
     },
     "execution_count": 6,
     "metadata": {},
     "output_type": "execute_result"
    }
   ],
   "source": [
    "silence_dataset"
   ]
  },
  {
   "cell_type": "code",
   "execution_count": 4,
   "metadata": {},
   "outputs": [],
   "source": [
    "silence_dataset_10000 = []\n",
    "\n",
    "for example in silence_dataset:\n",
    "    for i in range(2000):\n",
    "        silence_dataset_10000.append(sample_noise(example, i))    "
   ]
  },
  {
   "cell_type": "code",
   "execution_count": 5,
   "metadata": {},
   "outputs": [
    {
     "data": {
      "text/plain": [
       "{'source': '_silence_/dude_miaowing.wav',\n",
       " 'index': 0,\n",
       " 'array': array([1.00708008e-03, 2.96020508e-03, 9.15527344e-05, ...,\n",
       "        3.96728516e-04, 8.85009766e-04, 5.79833984e-04]),\n",
       " 'sampling_rate': 16000}"
      ]
     },
     "execution_count": 5,
     "metadata": {},
     "output_type": "execute_result"
    }
   ],
   "source": [
    "silence_dataset_10000[0]"
   ]
  }
 ],
 "metadata": {
  "kernelspec": {
   "display_name": "Python 3 (ipykernel)",
   "language": "python",
   "name": "python3"
  },
  "language_info": {
   "codemirror_mode": {
    "name": "ipython",
    "version": 3
   },
   "file_extension": ".py",
   "mimetype": "text/x-python",
   "name": "python",
   "nbconvert_exporter": "python",
   "pygments_lexer": "ipython3",
   "version": "3.10.6"
  }
 },
 "nbformat": 4,
 "nbformat_minor": 4
}
