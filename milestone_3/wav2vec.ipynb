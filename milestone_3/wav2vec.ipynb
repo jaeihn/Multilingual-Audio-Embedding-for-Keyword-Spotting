{
 "cells": [
  {
   "cell_type": "code",
   "execution_count": 188,
   "id": "fcf54138-d27a-4098-854e-ae136ee2ea89",
   "metadata": {},
   "outputs": [],
   "source": [
    "from transformers import Wav2Vec2Config, Wav2Vec2ForSequenceClassification\n",
    "import torch\n",
    "import librosa\n",
    "from torch.utils.data import DataLoader\n",
    "from datasets import load_dataset\n",
    "from datasets import Dataset\n",
    "from tqdm import tqdm\n",
    "import numpy as np\n",
    "import evaluate"
   ]
  },
  {
   "cell_type": "code",
   "execution_count": 189,
   "id": "0ffe1398-13ed-4c22-9cb7-389fcee28ace",
   "metadata": {},
   "outputs": [],
   "source": [
    "class KWS_dataset(torch.utils.data.Dataset):\n",
    "    def __init__(self, input_data, output_data):\n",
    "        self.input_data = input_data\n",
    "        self.output_data = output_data\n",
    "        \n",
    "    def __len__(self):\n",
    "        return len(self.input_data)\n",
    "    \n",
    "    def __getitem__(self, index):\n",
    "        keyword = self.output_data[index]\n",
    "        audio_features = self.input_data[index]\n",
    "        # return audio_features, keyword\n",
    "        return {'audio': audio_features,\n",
    "                'keyword': keyword\n",
    "               }"
   ]
  },
  {
   "cell_type": "code",
   "execution_count": 190,
   "id": "428b3c93-75d3-4915-871b-efadcefe62e3",
   "metadata": {},
   "outputs": [],
   "source": [
    "data_path = '../data/'"
   ]
  },
  {
   "cell_type": "code",
   "execution_count": 191,
   "id": "e34f271a-c86c-445d-94e3-15c0ffb233dc",
   "metadata": {},
   "outputs": [],
   "source": [
    "train_dataloader = torch.load('../data/en_splits_10_trainloader')\n",
    "dev_dataloader = torch.load('../data/en_splits_10_devloader')\n",
    "test_dataloader = torch.load('../data/en_splits_10_testloader')"
   ]
  },
  {
   "cell_type": "code",
   "execution_count": 192,
   "id": "a94003ae-e0c5-42f9-a647-630461bc2e6b",
   "metadata": {},
   "outputs": [],
   "source": [
    "device = torch.device('cuda') if torch.cuda.is_available() else torch.device('cpu')"
   ]
  },
  {
   "cell_type": "code",
   "execution_count": 193,
   "id": "4fa6b757-6425-42fb-bff3-e3453f41390e",
   "metadata": {},
   "outputs": [],
   "source": [
    "wav2vec_model = Wav2Vec2ForSequenceClassification(Wav2Vec2Config(\n",
    "    vocab_size=10,\n",
    "    hidden_size=512,\n",
    "    num_hidden_layers=2,\n",
    "    num_attention_heads=2,\n",
    "    conv_dim=[512,512,512],\n",
    "    conv_kernel=[2,2,2], \n",
    "    conv_stride=[5,2,2],\n",
    "    mask_time_length=1,\n",
    "    num_labels=10\n",
    "))"
   ]
  },
  {
   "cell_type": "code",
   "execution_count": 194,
   "id": "95cb9cde-b755-4404-b348-2b16156f8215",
   "metadata": {},
   "outputs": [],
   "source": [
    "wav2vec_model.to(device)\n",
    "wav2vec_model.double()\n",
    "wav2vec_model.train()\n",
    "\n",
    "optim = torch.optim.Adam(wav2vec_model.parameters(), lr=5e-5)"
   ]
  },
  {
   "cell_type": "code",
   "execution_count": 196,
   "id": "1ff0feb4-f98f-4e76-b8cf-2b5894572d97",
   "metadata": {},
   "outputs": [],
   "source": [
    "metric = evaluate.load(\"accuracy\")"
   ]
  },
  {
   "cell_type": "code",
   "execution_count": 197,
   "id": "e6a09d7b-3353-4025-b7f5-02fcad0758ee",
   "metadata": {},
   "outputs": [
    {
     "data": {
      "text/html": [
       "Finishing last run (ID:glkp6pbl) before initializing another..."
      ],
      "text/plain": [
       "<IPython.core.display.HTML object>"
      ]
     },
     "metadata": {},
     "output_type": "display_data"
    },
    {
     "data": {
      "text/html": [
       "Waiting for W&B process to finish... <strong style=\"color:green\">(success).</strong>"
      ],
      "text/plain": [
       "<IPython.core.display.HTML object>"
      ]
     },
     "metadata": {},
     "output_type": "display_data"
    },
    {
     "data": {
      "application/vnd.jupyter.widget-view+json": {
       "model_id": "94be9f5f94ea430a9b1518ab40c97d60",
       "version_major": 2,
       "version_minor": 0
      },
      "text/plain": [
       "VBox(children=(Label(value='0.001 MB of 0.001 MB uploaded (0.000 MB deduped)\\r'), FloatProgress(value=1.0, max…"
      ]
     },
     "metadata": {},
     "output_type": "display_data"
    },
    {
     "data": {
      "text/html": [
       "<style>\n",
       "    table.wandb td:nth-child(1) { padding: 0 10px; text-align: left ; width: auto;} td:nth-child(2) {text-align: left ; width: 100%}\n",
       "    .wandb-row { display: flex; flex-direction: row; flex-wrap: wrap; justify-content: flex-start; width: 100% }\n",
       "    .wandb-col { display: flex; flex-direction: column; flex-basis: 100%; flex: 1; padding: 10px; }\n",
       "    </style>\n",
       "<div class=\"wandb-row\"><div class=\"wandb-col\"><h3>Run history:</h3><br/><table class=\"wandb\"><tr><td>acc</td><td>▃▁▇▆█▅</td></tr><tr><td>loss</td><td>█▁▇▇▄▁</td></tr></table><br/></div><div class=\"wandb-col\"><h3>Run summary:</h3><br/><table class=\"wandb\"><tr><td>acc</td><td>0.13124</td></tr><tr><td>loss</td><td>2.18014</td></tr></table><br/></div></div>"
      ],
      "text/plain": [
       "<IPython.core.display.HTML object>"
      ]
     },
     "metadata": {},
     "output_type": "display_data"
    },
    {
     "data": {
      "text/html": [
       " View run <strong style=\"color:#cdcd00\">spring-water-11</strong> at: <a href='https://wandb.ai/the-wild-bunch/wav2vec/runs/glkp6pbl' target=\"_blank\">https://wandb.ai/the-wild-bunch/wav2vec/runs/glkp6pbl</a><br/>Synced 6 W&B file(s), 0 media file(s), 0 artifact file(s) and 0 other file(s)"
      ],
      "text/plain": [
       "<IPython.core.display.HTML object>"
      ]
     },
     "metadata": {},
     "output_type": "display_data"
    },
    {
     "data": {
      "text/html": [
       "Find logs at: <code>./wandb/run-20230417_045047-glkp6pbl/logs</code>"
      ],
      "text/plain": [
       "<IPython.core.display.HTML object>"
      ]
     },
     "metadata": {},
     "output_type": "display_data"
    },
    {
     "data": {
      "text/html": [
       "Successfully finished last run (ID:glkp6pbl). Initializing new run:<br/>"
      ],
      "text/plain": [
       "<IPython.core.display.HTML object>"
      ]
     },
     "metadata": {},
     "output_type": "display_data"
    },
    {
     "data": {
      "text/html": [
       "Tracking run with wandb version 0.14.2"
      ],
      "text/plain": [
       "<IPython.core.display.HTML object>"
      ]
     },
     "metadata": {},
     "output_type": "display_data"
    },
    {
     "data": {
      "text/html": [
       "Run data is saved locally in <code>/Users/jaeihn/projects/MDS-CL/COLX_585_The-Wild-Bunch/milestone_3/wandb/run-20230417_050401-ciqfrvuy</code>"
      ],
      "text/plain": [
       "<IPython.core.display.HTML object>"
      ]
     },
     "metadata": {},
     "output_type": "display_data"
    },
    {
     "data": {
      "text/html": [
       "Syncing run <strong><a href='https://wandb.ai/the-wild-bunch/wav2vec/runs/ciqfrvuy' target=\"_blank\">flowing-wind-12</a></strong> to <a href='https://wandb.ai/the-wild-bunch/wav2vec' target=\"_blank\">Weights & Biases</a> (<a href='https://wandb.me/run' target=\"_blank\">docs</a>)<br/>"
      ],
      "text/plain": [
       "<IPython.core.display.HTML object>"
      ]
     },
     "metadata": {},
     "output_type": "display_data"
    },
    {
     "data": {
      "text/html": [
       " View project at <a href='https://wandb.ai/the-wild-bunch/wav2vec' target=\"_blank\">https://wandb.ai/the-wild-bunch/wav2vec</a>"
      ],
      "text/plain": [
       "<IPython.core.display.HTML object>"
      ]
     },
     "metadata": {},
     "output_type": "display_data"
    },
    {
     "data": {
      "text/html": [
       " View run at <a href='https://wandb.ai/the-wild-bunch/wav2vec/runs/ciqfrvuy' target=\"_blank\">https://wandb.ai/the-wild-bunch/wav2vec/runs/ciqfrvuy</a>"
      ],
      "text/plain": [
       "<IPython.core.display.HTML object>"
      ]
     },
     "metadata": {},
     "output_type": "display_data"
    },
    {
     "name": "stderr",
     "output_type": "stream",
     "text": [
      "100%|█████████████████████████████████████████| 998/998 [04:58<00:00,  3.34it/s]\n",
      "100%|█████████████████████████████████████████████| 4/4 [00:17<00:00,  4.41s/it]\n",
      "100%|█████████████████████████████████████████| 998/998 [04:56<00:00,  3.37it/s]\n",
      "100%|█████████████████████████████████████████████| 4/4 [00:21<00:00,  5.26s/it]\n",
      "100%|█████████████████████████████████████████| 998/998 [04:54<00:00,  3.39it/s]\n",
      "100%|█████████████████████████████████████████████| 4/4 [00:18<00:00,  4.53s/it]\n",
      "100%|█████████████████████████████████████████| 998/998 [04:54<00:00,  3.39it/s]\n",
      "100%|█████████████████████████████████████████████| 4/4 [00:16<00:00,  4.11s/it]\n",
      "100%|█████████████████████████████████████████| 998/998 [05:03<00:00,  3.29it/s]\n",
      "100%|█████████████████████████████████████████████| 4/4 [00:20<00:00,  5.21s/it]\n",
      "100%|█████████████████████████████████████████| 998/998 [05:24<00:00,  3.07it/s]\n",
      "100%|█████████████████████████████████████████████| 4/4 [00:18<00:00,  4.52s/it]\n",
      "100%|█████████████████████████████████████████| 998/998 [05:11<00:00,  3.21it/s]\n",
      "100%|█████████████████████████████████████████████| 4/4 [00:16<00:00,  4.05s/it]\n",
      "100%|█████████████████████████████████████████| 998/998 [05:05<00:00,  3.27it/s]\n",
      "100%|█████████████████████████████████████████████| 4/4 [00:17<00:00,  4.30s/it]\n",
      "100%|█████████████████████████████████████████| 998/998 [06:01<00:00,  2.76it/s]\n",
      "100%|█████████████████████████████████████████████| 4/4 [00:18<00:00,  4.54s/it]\n",
      "100%|█████████████████████████████████████████| 998/998 [06:11<00:00,  2.69it/s]\n",
      "100%|█████████████████████████████████████████████| 4/4 [00:20<00:00,  5.08s/it]\n"
     ]
    },
    {
     "data": {
      "text/html": [
       "Waiting for W&B process to finish... <strong style=\"color:green\">(success).</strong>"
      ],
      "text/plain": [
       "<IPython.core.display.HTML object>"
      ]
     },
     "metadata": {},
     "output_type": "display_data"
    },
    {
     "data": {
      "text/html": [
       "<style>\n",
       "    table.wandb td:nth-child(1) { padding: 0 10px; text-align: left ; width: auto;} td:nth-child(2) {text-align: left ; width: 100%}\n",
       "    .wandb-row { display: flex; flex-direction: row; flex-wrap: wrap; justify-content: flex-start; width: 100% }\n",
       "    .wandb-col { display: flex; flex-direction: column; flex-basis: 100%; flex: 1; padding: 10px; }\n",
       "    </style>\n",
       "<div class=\"wandb-row\"><div class=\"wandb-col\"><h3>Run history:</h3><br/><table class=\"wandb\"><tr><td>acc</td><td>▁▅▄▇▆▆█▇▇▇</td></tr><tr><td>loss</td><td>▆▆█▃▇▄▁▃▁▂</td></tr></table><br/></div><div class=\"wandb-col\"><h3>Run summary:</h3><br/><table class=\"wandb\"><tr><td>acc</td><td>0.32905</td></tr><tr><td>loss</td><td>1.3794</td></tr></table><br/></div></div>"
      ],
      "text/plain": [
       "<IPython.core.display.HTML object>"
      ]
     },
     "metadata": {},
     "output_type": "display_data"
    },
    {
     "data": {
      "text/html": [
       " View run <strong style=\"color:#cdcd00\">flowing-wind-12</strong> at: <a href='https://wandb.ai/the-wild-bunch/wav2vec/runs/ciqfrvuy' target=\"_blank\">https://wandb.ai/the-wild-bunch/wav2vec/runs/ciqfrvuy</a><br/>Synced 6 W&B file(s), 0 media file(s), 0 artifact file(s) and 0 other file(s)"
      ],
      "text/plain": [
       "<IPython.core.display.HTML object>"
      ]
     },
     "metadata": {},
     "output_type": "display_data"
    },
    {
     "data": {
      "text/html": [
       "Find logs at: <code>./wandb/run-20230417_050401-ciqfrvuy/logs</code>"
      ],
      "text/plain": [
       "<IPython.core.display.HTML object>"
      ]
     },
     "metadata": {},
     "output_type": "display_data"
    }
   ],
   "source": [
    "import wandb\n",
    "import random\n",
    "\n",
    "# start a new wandb run to track this script\n",
    "wandb.init(\n",
    "    # set the wandb project where this run will be logged\n",
    "    project=\"wav2vec\",\n",
    "    \n",
    "    # track hyperparameters and run metadata\n",
    "    config={\n",
    "    \"architecture\": \"wav2vec2\",\n",
    "    \"dataset\": \"en_10_1600\",\n",
    "    \"epochs\": 10,\n",
    "    'hidden_size': 512,\n",
    "    'num_hidden_layers': 2,\n",
    "    'num_attention_heads': 2,\n",
    "    'conv_dim': [512,512,512],\n",
    "    'conv_kernel': [2,2,2], \n",
    "    'conv_stride': [5,2,2],\n",
    "    'mask_time_length': 1,\n",
    "    }\n",
    ")\n",
    "\n",
    "# simulate training\n",
    "epochs = 10\n",
    "\n",
    "for epoch in range(epochs):\n",
    "    wav2vec_model.train()\n",
    "    for batch in tqdm(train_dataloader):\n",
    "        optim.zero_grad()\n",
    "        audio = batch['audio'].to(device)\n",
    "        labels = batch['keyword'].to(device)\n",
    "        outputs = wav2vec_model(audio, labels=labels)\n",
    "        loss = outputs['loss']\n",
    "        loss.backward()\n",
    "        optim.step()\n",
    "        \n",
    "    torch.save({\n",
    "            'epoch': epoch,\n",
    "            'model_state_dict': wav2vec_model.state_dict(),\n",
    "            'optimizer_state_dict': optim.state_dict(),\n",
    "            'loss': loss,\n",
    "            }, f'../model/wav2vec/epoch_{epoch+1}')\n",
    "        \n",
    "    wav2vec_model.eval()\n",
    "        \n",
    "    for batch in tqdm(dev_dataloader):\n",
    "        audio = batch['audio'].to(device)\n",
    "        labels = batch['keyword'].to(device)\n",
    "        outputs = wav2vec_model(audio, labels=labels)\n",
    "        \n",
    "        metric.add_batch(predictions=outputs.logits.argmax(-1), references=labels)\n",
    "\n",
    "    wandb.log({\"acc\": metric.compute()['accuracy'], \"loss\": loss})\n",
    "    \n",
    "wandb.finish()"
   ]
  }
 ],
 "metadata": {
  "kernelspec": {
   "display_name": "Python 3 (ipykernel)",
   "language": "python",
   "name": "python3"
  },
  "language_info": {
   "codemirror_mode": {
    "name": "ipython",
    "version": 3
   },
   "file_extension": ".py",
   "mimetype": "text/x-python",
   "name": "python",
   "nbconvert_exporter": "python",
   "pygments_lexer": "ipython3",
   "version": "3.10.6"
  }
 },
 "nbformat": 4,
 "nbformat_minor": 5
}
