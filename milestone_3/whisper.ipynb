{
 "cells": [
  {
   "cell_type": "code",
   "execution_count": 50,
   "id": "fcf54138-d27a-4098-854e-ae136ee2ea89",
   "metadata": {},
   "outputs": [],
   "source": [
    "from transformers import WhisperForAudioClassification, WhisperConfig\n",
    "import torch\n",
    "import evaluate\n",
    "import librosa\n",
    "from torch.utils.data import DataLoader\n",
    "from datasets import load_dataset\n",
    "from datasets import Dataset\n",
    "from tqdm import tqdm"
   ]
  },
  {
   "cell_type": "code",
   "execution_count": 15,
   "id": "0ffe1398-13ed-4c22-9cb7-389fcee28ace",
   "metadata": {},
   "outputs": [],
   "source": [
    "class KWS_dataset(torch.utils.data.Dataset):\n",
    "    def __init__(self, input_data, output_data):\n",
    "        self.input_data = input_data\n",
    "        self.output_data = output_data\n",
    "        \n",
    "    def __len__(self):\n",
    "        return len(self.input_data)\n",
    "    \n",
    "    def __getitem__(self, index):\n",
    "        keyword = self.output_data[index]\n",
    "        audio_features = self.input_data[index]\n",
    "        # return audio_features, keyword\n",
    "        return {'audio': audio_features,\n",
    "                'keyword': keyword\n",
    "               }"
   ]
  },
  {
   "cell_type": "code",
   "execution_count": 16,
   "id": "428b3c93-75d3-4915-871b-efadcefe62e3",
   "metadata": {},
   "outputs": [],
   "source": [
    "data_path = '../data/'"
   ]
  },
  {
   "cell_type": "code",
   "execution_count": 54,
   "id": "e34f271a-c86c-445d-94e3-15c0ffb233dc",
   "metadata": {},
   "outputs": [],
   "source": [
    "train_dataloader = torch.load('../data/en_splits_10_trainloader')\n",
    "dev_dataloader = torch.load('../data/en_splits_10_devloader')\n",
    "test_dataloader = torch.load('../data/en_splits_10_testloader')"
   ]
  },
  {
   "cell_type": "code",
   "execution_count": 55,
   "id": "a94003ae-e0c5-42f9-a647-630461bc2e6b",
   "metadata": {},
   "outputs": [],
   "source": [
    "device = torch.device('cuda') if torch.cuda.is_available() else torch.device('cpu')"
   ]
  },
  {
   "cell_type": "code",
   "execution_count": 71,
   "id": "89c40a6a-5411-4142-9da8-565629d34dcb",
   "metadata": {},
   "outputs": [],
   "source": [
    "whisper_model = WhisperForAudioClassification(WhisperConfig(\n",
    "    num_mel_bins=80,\n",
    "    vocab_size=10,\n",
    "    num_labels=10,\n",
    "    max_source_positions=50,\n",
    "    classifier_proj_size=512,\n",
    "    encoder_layers=8\n",
    "))"
   ]
  },
  {
   "cell_type": "code",
   "execution_count": 72,
   "id": "95cb9cde-b755-4404-b348-2b16156f8215",
   "metadata": {},
   "outputs": [],
   "source": [
    "whisper_model.to(device)\n",
    "whisper_model.float()\n",
    "whisper_model.train()\n",
    "optim = torch.optim.Adam(whisper_model.parameters(), lr=5e-5)"
   ]
  },
  {
   "cell_type": "code",
   "execution_count": 73,
   "id": "3b032ef1-30d2-4764-8ddc-d3b3b65797c3",
   "metadata": {},
   "outputs": [],
   "source": [
    "metric = evaluate.load(\"accuracy\")"
   ]
  },
  {
   "cell_type": "code",
   "execution_count": null,
   "id": "ef24d9a0-9777-4fd7-8f87-aaec33a53ba6",
   "metadata": {
    "tags": []
   },
   "outputs": [
    {
     "data": {
      "text/html": [
       "Tracking run with wandb version 0.14.2"
      ],
      "text/plain": [
       "<IPython.core.display.HTML object>"
      ]
     },
     "metadata": {},
     "output_type": "display_data"
    },
    {
     "data": {
      "text/html": [
       "Run data is saved locally in <code>/Users/jaeihn/projects/MDS-CL/COLX_585_The-Wild-Bunch/milestone_3/wandb/run-20230417_071955-7smjfksk</code>"
      ],
      "text/plain": [
       "<IPython.core.display.HTML object>"
      ]
     },
     "metadata": {},
     "output_type": "display_data"
    },
    {
     "data": {
      "text/html": [
       "Syncing run <strong><a href='https://wandb.ai/the-wild-bunch/whisper/runs/7smjfksk' target=\"_blank\">polar-galaxy-9</a></strong> to <a href='https://wandb.ai/the-wild-bunch/whisper' target=\"_blank\">Weights & Biases</a> (<a href='https://wandb.me/run' target=\"_blank\">docs</a>)<br/>"
      ],
      "text/plain": [
       "<IPython.core.display.HTML object>"
      ]
     },
     "metadata": {},
     "output_type": "display_data"
    },
    {
     "data": {
      "text/html": [
       " View project at <a href='https://wandb.ai/the-wild-bunch/whisper' target=\"_blank\">https://wandb.ai/the-wild-bunch/whisper</a>"
      ],
      "text/plain": [
       "<IPython.core.display.HTML object>"
      ]
     },
     "metadata": {},
     "output_type": "display_data"
    },
    {
     "data": {
      "text/html": [
       " View run at <a href='https://wandb.ai/the-wild-bunch/whisper/runs/7smjfksk' target=\"_blank\">https://wandb.ai/the-wild-bunch/whisper/runs/7smjfksk</a>"
      ],
      "text/plain": [
       "<IPython.core.display.HTML object>"
      ]
     },
     "metadata": {},
     "output_type": "display_data"
    },
    {
     "name": "stderr",
     "output_type": "stream",
     "text": [
      "100%|█████████████████████████████████████████| 997/997 [01:33<00:00, 10.67it/s]\n",
      "100%|█████████████████████████████████████████████| 4/4 [00:04<00:00,  1.16s/it]\n",
      "100%|█████████████████████████████████████████| 997/997 [01:32<00:00, 10.81it/s]\n",
      "100%|█████████████████████████████████████████████| 4/4 [00:04<00:00,  1.13s/it]\n",
      "100%|█████████████████████████████████████████| 997/997 [01:34<00:00, 10.51it/s]\n",
      "100%|█████████████████████████████████████████████| 4/4 [00:04<00:00,  1.16s/it]\n",
      "100%|█████████████████████████████████████████| 997/997 [01:34<00:00, 10.58it/s]\n",
      "100%|█████████████████████████████████████████████| 4/4 [00:04<00:00,  1.16s/it]\n",
      "100%|█████████████████████████████████████████| 997/997 [01:34<00:00, 10.50it/s]\n",
      "100%|█████████████████████████████████████████████| 4/4 [00:04<00:00,  1.14s/it]\n",
      "100%|█████████████████████████████████████████| 997/997 [01:32<00:00, 10.75it/s]\n",
      "100%|█████████████████████████████████████████████| 4/4 [00:04<00:00,  1.16s/it]\n",
      "100%|█████████████████████████████████████████| 997/997 [01:32<00:00, 10.80it/s]\n",
      "100%|█████████████████████████████████████████████| 4/4 [00:04<00:00,  1.15s/it]\n",
      "100%|█████████████████████████████████████████| 997/997 [01:35<00:00, 10.40it/s]\n",
      "100%|█████████████████████████████████████████████| 4/4 [00:04<00:00,  1.18s/it]\n",
      "100%|█████████████████████████████████████████| 997/997 [01:34<00:00, 10.60it/s]\n",
      "100%|█████████████████████████████████████████████| 4/4 [00:04<00:00,  1.15s/it]\n",
      "100%|█████████████████████████████████████████| 997/997 [01:31<00:00, 10.93it/s]\n",
      "100%|█████████████████████████████████████████████| 4/4 [00:04<00:00,  1.18s/it]\n"
     ]
    },
    {
     "data": {
      "text/html": [
       "Waiting for W&B process to finish... <strong style=\"color:green\">(success).</strong>"
      ],
      "text/plain": [
       "<IPython.core.display.HTML object>"
      ]
     },
     "metadata": {},
     "output_type": "display_data"
    }
   ],
   "source": [
    "import wandb\n",
    "#start a new wandb run to track this script\n",
    "wandb.init(\n",
    "    # set the wandb project where this run will be logged\n",
    "    project=\"whisper\",\n",
    "    \n",
    "    # track hyperparameters and run metadata\n",
    "    config={\n",
    "    \"architecture\": \"whisper\",\n",
    "    \"dataset\": \"en_10\",\n",
    "    \"epochs\": \"10\",\n",
    "    \"channels\": \"80\",\n",
    "    \"encoder_layers\": \"8\"\n",
    "\n",
    "    }\n",
    ")\n",
    "\n",
    "\n",
    "epochs = 10\n",
    "\n",
    "for epoch in range(epochs):\n",
    "    whisper_model.train()\n",
    "    for batch in tqdm(train_dataloader):\n",
    "        optim.zero_grad()\n",
    "        audio = batch['audio'].to(device)\n",
    "        labels = batch['keyword'].to(device)\n",
    "        outputs = whisper_model(audio, labels=labels)\n",
    "        loss = outputs['loss']\n",
    "        loss.backward()\n",
    "        optim.step()\n",
    "        \n",
    "    torch.save({\n",
    "            'epoch': epoch,\n",
    "            'model_state_dict': whisper_model.state_dict(),\n",
    "            'optimizer_state_dict': optim.state_dict(),\n",
    "            'loss': loss,\n",
    "            }, f'../model/whisper/epoch_{epoch+1}')\n",
    "        \n",
    "    whisper_model.eval()\n",
    "        \n",
    "    for batch in tqdm(dev_dataloader):\n",
    "        audio = batch['audio'].to(device)\n",
    "        labels = batch['keyword'].to(device)\n",
    "        outputs = whisper_model(audio, labels=labels)\n",
    "        \n",
    "        metric.add_batch(predictions=outputs.logits.argmax(-1), references=labels)\n",
    "\n",
    "    wandb.log({\"acc\": metric.compute()['accuracy'], \"loss\": loss})\n",
    "    \n",
    "wandb.finish()"
   ]
  },
  {
   "cell_type": "code",
   "execution_count": null,
   "id": "0a084af8-47f7-4410-9853-2bd0527e1165",
   "metadata": {},
   "outputs": [],
   "source": []
  }
 ],
 "metadata": {
  "kernelspec": {
   "display_name": "Python 3 (ipykernel)",
   "language": "python",
   "name": "python3"
  },
  "language_info": {
   "codemirror_mode": {
    "name": "ipython",
    "version": 3
   },
   "file_extension": ".py",
   "mimetype": "text/x-python",
   "name": "python",
   "nbconvert_exporter": "python",
   "pygments_lexer": "ipython3",
   "version": "3.10.6"
  }
 },
 "nbformat": 4,
 "nbformat_minor": 5
}
