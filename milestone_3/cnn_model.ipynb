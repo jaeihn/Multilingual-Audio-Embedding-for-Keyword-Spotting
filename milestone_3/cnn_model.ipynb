{
 "cells": [
  {
   "cell_type": "code",
   "execution_count": 1,
   "metadata": {},
   "outputs": [],
   "source": [
    "import torch\n",
    "from torch.utils.data import DataLoader, Dataset"
   ]
  },
  {
   "cell_type": "code",
   "execution_count": 2,
   "metadata": {},
   "outputs": [],
   "source": [
    "class KWS_dataset(Dataset):\n",
    "    def __init__(self, input_data, output_data):\n",
    "        self.input_data = input_data\n",
    "        self.output_data = output_data\n",
    "        \n",
    "    def __len__(self):\n",
    "        return len(self.input_data)\n",
    "    \n",
    "    def __getitem__(self, index):\n",
    "        keyword = self.output_data[index]\n",
    "        audio_features = self.input_data[index]\n",
    "        return audio_features, keyword"
   ]
  },
  {
   "cell_type": "code",
   "execution_count": 3,
   "metadata": {},
   "outputs": [],
   "source": [
    "path = \"D:\\Documents\\Data_Science\\MDS_CL\\Term2\\Block6\\COLX_585_trends_in_computational_linguistics\\Team_project\\data_splits\"\n",
    "train_loader = torch.load(path+'\\\\en_splits_10.trainloader')\n",
    "dev_loader = torch.load(path+'\\\\en_splits_10.devloader')\n",
    "test_loader = torch.load(path+'\\\\en_splits_10.testloader')"
   ]
  },
  {
   "cell_type": "code",
   "execution_count": 4,
   "metadata": {},
   "outputs": [
    {
     "name": "stdout",
     "output_type": "stream",
     "text": [
      "8027\n",
      "993\n",
      "980\n"
     ]
    }
   ],
   "source": [
    "print(len(train_loader.dataset))\n",
    "print(len(dev_loader.dataset))\n",
    "print(len(test_loader.dataset))"
   ]
  },
  {
   "cell_type": "code",
   "execution_count": 5,
   "metadata": {},
   "outputs": [
    {
     "name": "stdout",
     "output_type": "stream",
     "text": [
      "<class 'list'>\n",
      "2\n",
      "torch.Size([1024, 40, 100])\n",
      "torch.Size([1024])\n"
     ]
    }
   ],
   "source": [
    "type(train_loader)\n",
    "for item in train_loader:\n",
    "    # print(item)\n",
    "    print(type(item))\n",
    "    print(len(item))\n",
    "    print(item[0].shape) # audio features, 40x100 , 40 is the number of features, 100 is the number of frames, 1024 is the batch size\n",
    "    print(item[1].shape) # keyword, 1024 is the batch size\n",
    "    exm_input = item[0]\n",
    "    break"
   ]
  },
  {
   "cell_type": "code",
   "execution_count": 6,
   "metadata": {},
   "outputs": [],
   "source": [
    "###\n",
    "import torch\n",
    "import torch.nn.functional as F\n",
    "import torch.nn as nn\n",
    "import torchvision\n",
    "\n",
    "\n",
    "class MultilingualEmbeddingModel(nn.Module):\n",
    "    def __init__(self, num_classes):\n",
    "        super(MultilingualEmbeddingModel, self).__init__()\n",
    "        # Load EfficientNet-B0 as the base model\n",
    "        self.efficient_b0_model = torchvision.models.efficientnet_b0(pretrained=True)\n",
    "\n",
    "        # Add a global average pooling layer\n",
    "        self.global_avg_pool = nn.AdaptiveAvgPool2d((1024, 2048))\n",
    "\n",
    "        # Add two dense layers of 2048 units with ReLU activations\n",
    "        self.linear1 = nn.Linear(2048, 2048)\n",
    "        self.relu1 = nn.ReLU()\n",
    "        self.linear2 = nn.Linear(2048, 2048)\n",
    "        self.relu2 = nn.ReLU()\n",
    "        # Add a penultimate 1024-unit SELU activation layer\n",
    "        self.linear3 = nn.Linear(2048, 1024)\n",
    "        self.selu = nn.SELU()\n",
    "        # add a softmax layer\n",
    "        self.linear4 = nn.Linear(1024, num_classes)\n",
    "        self.softmax = nn.Softmax(dim=1)\n",
    "\n",
    "\n",
    "    def forward(self, x):\n",
    "        # print(f\"input shape: {x.shape}\")\n",
    "        # Pass the input through the base model\n",
    "        x = x.unsqueeze(1)\n",
    "        # print(f\"after unsqueeze: {x.shape}\")\n",
    "        x = x.repeat(1, 3, 1, 1)\n",
    "        # print(f\"after repeat: {x.shape}\")\n",
    "        x = self.efficient_b0_model(x)\n",
    "        # print(f\"after efficientnet: {x.shape}\")\n",
    "        # add a 1 to the first dimension\n",
    "        x = x.unsqueeze(0)\n",
    "        # print(f\"after unsqueeze: {x.shape}\")\n",
    "        # Pass the output through the global average pooling layer\n",
    "        x = self.global_avg_pool(x)\n",
    "        # print(f\"after global_avg_pool: {x.shape}\")\n",
    "        # pass the output through the dense layers\n",
    "        # remove the first 1 in the shape\n",
    "        x = x.squeeze(0)\n",
    "        # print(f\"after squeeze: {x.shape}\")\n",
    "        x = self.linear1(x)\n",
    "        # print(f\"after linear1: {x.shape}\")\n",
    "        x = self.relu1(x)\n",
    "        # print(f\"after relu1: {x.shape}\")\n",
    "        x = self.linear2(x)\n",
    "        # print(f\"after linear2: {x.shape}\")\n",
    "        x = self.relu2(x)\n",
    "        # print(f\"after relu2: {x.shape}\")\n",
    "        x = self.linear3(x)\n",
    "        # print(f\"after linear3: {x.shape}\")\n",
    "        x = self.selu(x)\n",
    "        # print(f\"after selu: {x.shape}\")\n",
    "        # pass the output through the softmax layer\n",
    "        x  = self.linear4(x)\n",
    "        # print(f\"after linear4: {x.shape}\")\n",
    "        x = self.softmax(x)\n",
    "        # print(f\"after softmax: {x.shape}\")\n",
    "\n",
    "        return x\n"
   ]
  },
  {
   "cell_type": "code",
   "execution_count": 7,
   "metadata": {},
   "outputs": [
    {
     "name": "stderr",
     "output_type": "stream",
     "text": [
      "d:\\conda_environments\\wild_bunch\\lib\\site-packages\\torchvision\\models\\_utils.py:208: UserWarning: The parameter 'pretrained' is deprecated since 0.13 and may be removed in the future, please use 'weights' instead.\n",
      "  warnings.warn(\n",
      "d:\\conda_environments\\wild_bunch\\lib\\site-packages\\torchvision\\models\\_utils.py:223: UserWarning: Arguments other than a weight enum or `None` for 'weights' are deprecated since 0.13 and may be removed in the future. The current behavior is equivalent to passing `weights=EfficientNet_B0_Weights.IMAGENET1K_V1`. You can also use `weights=EfficientNet_B0_Weights.DEFAULT` to get the most up-to-date weights.\n",
      "  warnings.warn(msg)\n"
     ]
    }
   ],
   "source": [
    "model = MultilingualEmbeddingModel(10)\n"
   ]
  },
  {
   "cell_type": "code",
   "execution_count": 8,
   "metadata": {},
   "outputs": [
    {
     "data": {
      "text/plain": [
       "torch.Size([1024, 10])"
      ]
     },
     "execution_count": 8,
     "metadata": {},
     "output_type": "execute_result"
    }
   ],
   "source": [
    "model(exm_input).shape\n"
   ]
  },
  {
   "cell_type": "code",
   "execution_count": null,
   "metadata": {},
   "outputs": [],
   "source": []
  },
  {
   "cell_type": "code",
   "execution_count": null,
   "metadata": {},
   "outputs": [],
   "source": []
  },
  {
   "cell_type": "code",
   "execution_count": null,
   "metadata": {},
   "outputs": [],
   "source": []
  }
 ],
 "metadata": {
  "kernelspec": {
   "display_name": "Python 3.9.12 ('wild_bunch')",
   "language": "python",
   "name": "python3"
  },
  "language_info": {
   "codemirror_mode": {
    "name": "ipython",
    "version": 3
   },
   "file_extension": ".py",
   "mimetype": "text/x-python",
   "name": "python",
   "nbconvert_exporter": "python",
   "pygments_lexer": "ipython3",
   "version": "3.9.12"
  },
  "orig_nbformat": 4,
  "vscode": {
   "interpreter": {
    "hash": "7012b8f0bd8a8341f73b51b2b438af7e10adf089dc9f82b31de57148a2c65b98"
   }
  }
 },
 "nbformat": 4,
 "nbformat_minor": 2
}
