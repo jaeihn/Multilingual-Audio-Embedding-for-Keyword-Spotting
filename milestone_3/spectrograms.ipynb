{
 "cells": [
  {
   "cell_type": "code",
   "execution_count": null,
   "metadata": {},
   "outputs": [],
   "source": [
    "from transformers import WhisperFeatureExtractor\n",
    "import librosa\n",
    "import matplotlib.pyplot as plt\n",
    "import subprocess\n",
    "import os\n",
    "import torch\n"
   ]
  },
  {
   "cell_type": "code",
   "execution_count": null,
   "metadata": {},
   "outputs": [],
   "source": [
    "def convert_opus_to_wav(opus_path, wav_path, path_to_ffmpeg):\n",
    "    '''This function converts an opus file to a wav file.\n",
    "    opus_path: path to the opus file\n",
    "    wav_path: path to the wav file\n",
    "    path_to_ffmpeg: path to the ffmpeg executable'''\n",
    "    # print('Converting opus to wav')\n",
    "\n",
    "    # result = subprocess.run([f'{path_to_ffmpeg}', '-i', f'{opus_file}', '-vn', f'{wav_file}'])\n",
    "    result = subprocess.run([f'{path_to_ffmpeg}', '-i', f'{opus_path}', '-vn', f'{wav_path}'])\n",
    "    # print('result')\n",
    "\n",
    "    # Check the exit code\n",
    "    if result.returncode == 0:\n",
    "        print('Conversion successful')\n",
    "    else:\n",
    "        print('Conversion failed')"
   ]
  },
  {
   "cell_type": "code",
   "execution_count": null,
   "metadata": {},
   "outputs": [],
   "source": [
    "def convert_opus_to_wav_in_dir(opus_dir, wav_dir, path_to_ffmpeg):\n",
    "    '''This function converts all opus files in a directory to wav files.\n",
    "    opus_dir: path to the directory with opus files\n",
    "    wav_dir: path to where the wav files should be stored\n",
    "    path_to_ffmpeg: path to the ffmpeg executable'''\n",
    "\n",
    "    # go through all the folders and subfolders and get all the opus files\n",
    "    opus_files = []\n",
    "    for root, dirs, files in os.walk(opus_dir):\n",
    "        for file in files:\n",
    "            if file.endswith('.opus'):\n",
    "                opus_files.append(os.path.join(root, file))\n",
    "\n",
    "    print(f\"{len(opus_files)} opus_fiels created\")\n",
    "\n",
    "    # for each opus file, convert it to a wav file\n",
    "    for opus_file in opus_files:\n",
    "        # get the name of the wav file\n",
    "        wav_file = opus_file.replace(opus_dir, wav_dir)\n",
    "        wav_file = wav_file.replace('.opus', '.wav')\n",
    "\n",
    "        # create the directory for the wav file\n",
    "        os.makedirs(os.path.dirname(wav_file), exist_ok=True)\n",
    "\n",
    "        # convert the opus file to a wav file\n",
    "        convert_opus_to_wav(opus_file, wav_file, path_to_ffmpeg)\n",
    "    print('Conversions done')"
   ]
  },
  {
   "cell_type": "code",
   "execution_count": null,
   "metadata": {},
   "outputs": [],
   "source": [
    "opus_dir = 'D:\\Documents\\Data_Science\\MDS_CL\\Term2\\Block6\\COLX_585_trends_in_computational_linguistics\\Team_project\\data\\\\testing_func_opus'\n",
    "wav_dir = 'D:\\Documents\\Data_Science\\MDS_CL\\Term2\\Block6\\COLX_585_trends_in_computational_linguistics\\Team_project\\data\\\\testing_func_opus_wav'\n",
    "path_to_ffmpeg = \"C:\\Program Files\\\\ffmpeg\\\\bin/ffmpeg.exe\"\n",
    "convert_opus_to_wav_in_dir(opus_dir, wav_dir, path_to_ffmpeg)"
   ]
  },
  {
   "cell_type": "code",
   "execution_count": null,
   "metadata": {},
   "outputs": [],
   "source": [
    "def generate_spectrogram(file, size):\n",
    "    '''This function takes in a file path and a size and returns a spectrogram of the audio file.\n",
    "    file: path to the audio file (wav)\n",
    "    size: a tuple, size of the spectrogram (height, width)'''\n",
    "    audio, sr = librosa.load(file, sr=16000) # load audio file\n",
    "    feature_extractor = WhisperFeatureExtractor() # initialize feature extractor\n",
    "    features = feature_extractor(audio, sampling_rate=sr, return_tensors=\"pt\") # extract features\n",
    "    spectrogram = features['input_features'][0] # get spectrogram\n",
    "    spectrogram = spectrogram[:size[0], :size[1]] # crop spectrogram\n",
    "    return spectrogram"
   ]
  },
  {
   "cell_type": "code",
   "execution_count": null,
   "metadata": {},
   "outputs": [],
   "source": [
    "def generate_spectrograms_in_dir(wav_dir, spectrogram_dir, size):\n",
    "    '''This function generates spectrograms for all wav files in a directory.\n",
    "    wav_dir: path to the directory with wav files\n",
    "    spectrogram_dir: path to the directory where the spectrograms will be saved\n",
    "    size: a tuple, size of the spectrograms (height, width)'''\n",
    "\n",
    "    wav_files = []\n",
    "    for root, dirs, files in os.walk(wav_dir):\n",
    "        for file in files:\n",
    "            if file.endswith('.wav'):\n",
    "                wav_files.append(os.path.join(root, file))\n",
    "\n",
    "    # for each wav file, generate a spectrogram\n",
    "    for wav_file in wav_files:\n",
    "        # get the name of the spectrogram file\n",
    "        spectrogram_file = wav_file.replace(wav_dir, spectrogram_dir)\n",
    "\n",
    "        spectrogram_file = spectrogram_file.replace('.wav', '.pt')\n",
    "\n",
    "        # create the directory for the spectrogram file\n",
    "        os.makedirs(os.path.dirname(spectrogram_file), exist_ok=True)\n",
    "\n",
    "        # generate the spectrogram\n",
    "        spectrogram = generate_spectrogram(wav_file, size)\n",
    "\n",
    "        # save the spectrogram\n",
    "        torch.save(spectrogram, spectrogram_file)\n",
    "\n",
    "    print('Spectrograms done')"
   ]
  },
  {
   "cell_type": "code",
   "execution_count": null,
   "metadata": {},
   "outputs": [],
   "source": [
    "# test the function\n",
    "wav_dir = 'D:\\Documents\\Data_Science\\MDS_CL\\Term2\\Block6\\COLX_585_trends_in_computational_linguistics\\Team_project\\data\\\\testing_func_opus_wav'\n",
    "spectrogram_dir = 'D:\\Documents\\Data_Science\\MDS_CL\\Term2\\Block6\\COLX_585_trends_in_computational_linguistics\\Team_project\\data\\\\testing_func_opus_wav_spectrogram'\n",
    "size = (49, 40)\n",
    "generate_spectrograms_in_dir(wav_dir, spectrogram_dir, size)"
   ]
  },
  {
   "cell_type": "code",
   "execution_count": null,
   "metadata": {},
   "outputs": [],
   "source": []
  }
 ],
 "metadata": {
  "kernelspec": {
   "display_name": "Python 3.10.6 ('531')",
   "language": "python",
   "name": "python3"
  },
  "language_info": {
   "name": "python",
   "version": "3.10.6"
  },
  "orig_nbformat": 4,
  "vscode": {
   "interpreter": {
    "hash": "4568d73095722077be5d254b6225b7ce389a787dcffb6b6d16c3e4edcd519871"
   }
  }
 },
 "nbformat": 4,
 "nbformat_minor": 2
}
